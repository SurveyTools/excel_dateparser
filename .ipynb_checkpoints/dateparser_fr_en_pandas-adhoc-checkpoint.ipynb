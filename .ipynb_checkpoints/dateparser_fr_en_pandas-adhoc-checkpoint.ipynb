{
 "cells": [
  {
   "cell_type": "markdown",
   "metadata": {},
   "source": [
    "##### Import pandas & openpyxl libraries"
   ]
  },
  {
   "cell_type": "code",
   "execution_count": 1,
   "metadata": {},
   "outputs": [],
   "source": [
    "import pandas as pd, openpyxl\n",
    "from openpyxl import load_workbook"
   ]
  },
  {
   "cell_type": "markdown",
   "metadata": {},
   "source": [
    "Load workbook into memory"
   ]
  },
  {
   "cell_type": "code",
   "execution_count": 2,
   "metadata": {},
   "outputs": [],
   "source": [
    "# wb = load_workbook(r'C:\\data\\gecdb_files\\data_uploads\\COG_Ogouee\\2017\\00\\normalized\\COG_Ogouee_normalized.xlsx')\n",
    "wb = load_workbook(r'C:/data/gecdb_files/data_uploads/COG_NgNtPi/2014/00/work/_observations/COG_NgNtPi_transect_obs.xlsx')"
   ]
  },
  {
   "cell_type": "markdown",
   "metadata": {},
   "source": [
    "List worksheets"
   ]
  },
  {
   "cell_type": "code",
   "execution_count": 3,
   "metadata": {},
   "outputs": [
    {
     "data": {
      "text/plain": [
       "[<Worksheet \"times\">, <Worksheet \"copied_times\">]"
      ]
     },
     "execution_count": 3,
     "metadata": {},
     "output_type": "execute_result"
    }
   ],
   "source": [
    "wb.worksheets"
   ]
  },
  {
   "cell_type": "markdown",
   "metadata": {},
   "source": [
    "##### Isolate specific sheet"
   ]
  },
  {
   "cell_type": "code",
   "execution_count": 4,
   "metadata": {},
   "outputs": [
    {
     "data": {
      "text/plain": [
       "<Worksheet \"copied_times\">"
      ]
     },
     "execution_count": 4,
     "metadata": {},
     "output_type": "execute_result"
    }
   ],
   "source": [
    "ws = wb[\"copied_times\"]\n",
    "ws"
   ]
  },
  {
   "cell_type": "code",
   "execution_count": 5,
   "metadata": {},
   "outputs": [],
   "source": [
    "# wb[\"Recce Observations\"] #.sheet_names wb[\"Missions\"]\n",
    "# ws = wb[\"Recce Observations\"]\n",
    "# ws"
   ]
  },
  {
   "cell_type": "code",
   "execution_count": 6,
   "metadata": {},
   "outputs": [
    {
     "data": {
      "text/plain": [
       "openpyxl.worksheet.worksheet.Worksheet"
      ]
     },
     "execution_count": 6,
     "metadata": {},
     "output_type": "execute_result"
    }
   ],
   "source": [
    "type(ws)"
   ]
  },
  {
   "cell_type": "markdown",
   "metadata": {},
   "source": [
    "define where data exists"
   ]
  },
  {
   "cell_type": "code",
   "execution_count": 7,
   "metadata": {},
   "outputs": [
    {
     "data": {
      "text/plain": [
       "<generator object Worksheet.values at 0x000001623B4D1A98>"
      ]
     },
     "execution_count": 7,
     "metadata": {},
     "output_type": "execute_result"
    }
   ],
   "source": [
    "data = ws.values\n",
    "data"
   ]
  },
  {
   "cell_type": "markdown",
   "metadata": {},
   "source": [
    "Read in column names"
   ]
  },
  {
   "cell_type": "code",
   "execution_count": 8,
   "metadata": {},
   "outputs": [
    {
     "data": {
      "text/plain": [
       "('index', 'time')"
      ]
     },
     "execution_count": 8,
     "metadata": {},
     "output_type": "execute_result"
    }
   ],
   "source": [
    "cols = next(data) # reads in first row, \n",
    "cols[:2]\n",
    "# two_cols = cols[:2]\n",
    "# two_cols"
   ]
  },
  {
   "cell_type": "markdown",
   "metadata": {},
   "source": [
    "Return data as a list"
   ]
  },
  {
   "cell_type": "code",
   "execution_count": 9,
   "metadata": {},
   "outputs": [
    {
     "data": {
      "text/plain": [
       "[(25346, '\\xa06:51:59'),\n",
       " (25347, '\\xa06:52:59'),\n",
       " (25348, '\\xa06:53:59'),\n",
       " (25349, '\\xa06:54:59'),\n",
       " (25350, '\\xa06:55:59'),\n",
       " (25351, '\\xa06:56:59'),\n",
       " (25352, '\\xa06:57:59'),\n",
       " (25353, '\\xa06:58:59'),\n",
       " (25354, '\\xa06:59:59'),\n",
       " (25355, '\\xa07:00:59'),\n",
       " (25356, '\\xa07:02:05'),\n",
       " (25357, '\\xa07:03:05'),\n",
       " (25358, '\\xa07:04:05'),\n",
       " (25359, '\\xa07:05:05'),\n",
       " (25360, '\\xa07:06:05'),\n",
       " (25361, '\\xa07:07:05'),\n",
       " (25362, '\\xa07:08:05'),\n",
       " (25363, '\\xa07:09:05'),\n",
       " (25364, '\\xa07:10:05'),\n",
       " (25365, '\\xa07:11:05'),\n",
       " (25366, '\\xa07:12:05'),\n",
       " (25367, '\\xa07:13:05'),\n",
       " (25368, '\\xa07:14:05'),\n",
       " (25369, '\\xa07:15:05'),\n",
       " (25370, '\\xa07:16:05'),\n",
       " (25371, '\\xa07:17:05'),\n",
       " (25372, '\\xa07:18:05'),\n",
       " (25373, '\\xa07:19:05'),\n",
       " (25374, '\\xa07:20:05'),\n",
       " (25375, '\\xa07:21:05'),\n",
       " (25376, '\\xa07:22:05'),\n",
       " (25377, '\\xa07:23:05'),\n",
       " (25378, '\\xa07:24:05'),\n",
       " (25379, '\\xa07:25:05'),\n",
       " (25380, '\\xa07:26:05'),\n",
       " (25381, '\\xa07:27:05'),\n",
       " (25382, '\\xa07:28:05'),\n",
       " (25383, '\\xa07:29:05'),\n",
       " (25384, '\\xa07:30:05'),\n",
       " (25385, '\\xa07:31:05'),\n",
       " (25386, '\\xa07:32:05'),\n",
       " (25387, '\\xa07:33:05'),\n",
       " (25388, '\\xa07:34:05'),\n",
       " (25389, '\\xa07:35:05'),\n",
       " (25390, '\\xa07:36:05'),\n",
       " (25391, '\\xa07:37:05'),\n",
       " (25392, '\\xa07:38:05'),\n",
       " (25393, '\\xa07:39:05'),\n",
       " (25394, '\\xa07:40:05'),\n",
       " (25395, '\\xa07:41:05'),\n",
       " (25396, '\\xa07:42:05'),\n",
       " (25397, '\\xa07:43:05'),\n",
       " (25398, '\\xa07:44:05'),\n",
       " (25399, '\\xa07:45:05'),\n",
       " (25400, '\\xa07:46:05'),\n",
       " (25401, '\\xa07:47:05'),\n",
       " (25402, '\\xa07:48:05'),\n",
       " (25403, '\\xa07:49:05'),\n",
       " (25404, '\\xa07:50:05'),\n",
       " (25405, '\\xa07:51:05'),\n",
       " (25406, '\\xa07:52:23'),\n",
       " (25407, '\\xa07:53:23'),\n",
       " (25408, '\\xa07:54:23'),\n",
       " (25409, '\\xa07:55:23'),\n",
       " (25410, '\\xa07:56:22'),\n",
       " (25411, '\\xa07:57:23'),\n",
       " (25412, '\\xa07:58:23'),\n",
       " (25413, '\\xa07:59:23'),\n",
       " (25414, '\\xa08:00:23'),\n",
       " (25415, '\\xa08:01:23'),\n",
       " (25416, '\\xa08:02:23'),\n",
       " (25417, '\\xa08:03:23'),\n",
       " (25418, '\\xa08:04:23'),\n",
       " (25419, '\\xa08:05:23'),\n",
       " (25420, '\\xa08:06:23'),\n",
       " (25421, '\\xa08:07:23'),\n",
       " (25422, '\\xa08:08:23'),\n",
       " (25423, '\\xa08:09:23'),\n",
       " (25424, '\\xa08:10:23'),\n",
       " (25425, '\\xa08:11:23'),\n",
       " (25426, '\\xa08:12:23'),\n",
       " (25427, '\\xa08:13:23'),\n",
       " (25428, '\\xa08:14:23'),\n",
       " (25429, '\\xa08:15:23'),\n",
       " (25430, '\\xa08:16:23'),\n",
       " (25431, '\\xa08:17:23'),\n",
       " (25432, '\\xa08:18:23'),\n",
       " (25433, '\\xa08:19:23'),\n",
       " (25434, '\\xa08:20:23'),\n",
       " (25435, '\\xa08:21:23'),\n",
       " (25436, '\\xa08:22:23'),\n",
       " (25437, '\\xa08:23:23'),\n",
       " (25438, '\\xa08:24:23'),\n",
       " (25439, '\\xa08:25:23'),\n",
       " (25440, '\\xa08:26:23'),\n",
       " (25441, '\\xa08:27:23'),\n",
       " (25442, '\\xa08:28:23'),\n",
       " (25443, '\\xa08:29:23'),\n",
       " (25444, '\\xa08:30:23'),\n",
       " (25445, '\\xa08:31:23'),\n",
       " (25446, '\\xa08:32:23'),\n",
       " (25447, '\\xa08:33:23'),\n",
       " (25448, '\\xa08:34:23'),\n",
       " (25449, '\\xa08:35:23'),\n",
       " (25450, '\\xa08:36:23'),\n",
       " (25451, '\\xa08:37:23'),\n",
       " (25452, '\\xa08:38:23'),\n",
       " (25453, '\\xa08:39:23'),\n",
       " (25454, '\\xa08:40:23'),\n",
       " (25455, '\\xa08:41:23'),\n",
       " (25456, '\\xa08:42:23'),\n",
       " (25457, '\\xa08:43:23'),\n",
       " (25458, '\\xa08:44:23'),\n",
       " (25459, '\\xa08:45:23'),\n",
       " (25460, '\\xa08:46:23'),\n",
       " (25461, '\\xa08:47:23'),\n",
       " (25462, '\\xa08:48:23'),\n",
       " (25463, '\\xa08:49:23'),\n",
       " (25464, '\\xa08:50:23'),\n",
       " (25465, '\\xa08:51:23'),\n",
       " (25466, '\\xa08:52:23'),\n",
       " (25467, '\\xa08:53:23'),\n",
       " (25468, '\\xa08:54:23'),\n",
       " (25469, '\\xa08:55:23'),\n",
       " (25470, '\\xa08:56:23'),\n",
       " (25471, '\\xa08:57:23'),\n",
       " (25472, '\\xa08:58:23'),\n",
       " (25473, '\\xa08:59:23'),\n",
       " (25474, '\\xa09:00:23'),\n",
       " (25475, '\\xa09:01:23'),\n",
       " (25476, '\\xa09:02:23'),\n",
       " (25477, '\\xa09:03:23'),\n",
       " (25478, '\\xa09:04:23'),\n",
       " (25479, '\\xa09:05:23'),\n",
       " (25480, '\\xa09:06:23'),\n",
       " (25481, '\\xa09:07:23'),\n",
       " (25482, '\\xa09:08:23'),\n",
       " (25483, '\\xa09:09:23'),\n",
       " (25484, '\\xa09:10:23'),\n",
       " (25485, '\\xa09:11:23'),\n",
       " (25486, '\\xa09:12:23'),\n",
       " (25487, '\\xa09:13:23'),\n",
       " (25488, '\\xa09:14:23'),\n",
       " (25489, '\\xa09:14:59'),\n",
       " (25490, '\\xa09:16:00'),\n",
       " (25491, '\\xa09:17:00'),\n",
       " (25492, '\\xa09:18:00'),\n",
       " (25493, '\\xa09:19:00'),\n",
       " (25494, '\\xa09:20:00'),\n",
       " (25495, '\\xa09:21:00'),\n",
       " (25496, '\\xa09:22:00'),\n",
       " (25497, '\\xa09:23:00'),\n",
       " (25498, '\\xa09:24:00'),\n",
       " (25499, '\\xa09:25:00'),\n",
       " (25500, '\\xa09:26:00'),\n",
       " (25501, '\\xa09:27:00'),\n",
       " (25502, '\\xa09:28:00'),\n",
       " (25503, '\\xa09:29:00'),\n",
       " (25504, '\\xa09:30:00'),\n",
       " (25505, '\\xa09:31:00'),\n",
       " (25506, '\\xa09:32:00'),\n",
       " (25507, '\\xa09:33:00'),\n",
       " (25508, '\\xa09:34:00'),\n",
       " (25509, '\\xa09:35:00'),\n",
       " (25510, '\\xa09:35:01'),\n",
       " (25511, '\\xa09:35:02'),\n",
       " (25512, '\\xa09:35:06'),\n",
       " (25513, '\\xa09:36:07'),\n",
       " (25514, '\\xa09:37:07'),\n",
       " (25515, '\\xa09:38:07'),\n",
       " (25516, '\\xa09:39:07'),\n",
       " (25517, '\\xa09:40:07'),\n",
       " (25518, '\\xa09:41:07'),\n",
       " (25519, '\\xa09:42:07'),\n",
       " (25520, '\\xa09:43:07'),\n",
       " (25521, '\\xa09:44:07'),\n",
       " (25522, '\\xa09:45:07'),\n",
       " (25523, '\\xa09:46:07'),\n",
       " (25524, '\\xa09:47:07'),\n",
       " (25525, '\\xa09:48:07'),\n",
       " (25526, '\\xa09:49:07'),\n",
       " (25527, '\\xa09:50:07'),\n",
       " (25528, '\\xa09:51:07'),\n",
       " (25529, '\\xa09:52:07'),\n",
       " (25530, '\\xa09:53:07'),\n",
       " (25531, '\\xa09:54:07'),\n",
       " (25532, '\\xa09:55:07'),\n",
       " (25533, '\\xa09:56:07'),\n",
       " (25534, '\\xa09:57:07'),\n",
       " (25535, '\\xa09:58:07'),\n",
       " (25536, '\\xa09:59:07')]"
      ]
     },
     "execution_count": 9,
     "metadata": {},
     "output_type": "execute_result"
    }
   ],
   "source": [
    "data = list(data)\n",
    "data #[:2] #display first two rows\n",
    "# two_data = data[:2]\n",
    "# two_data"
   ]
  },
  {
   "cell_type": "markdown",
   "metadata": {},
   "source": [
    "Read data into dataframe and then display head"
   ]
  },
  {
   "cell_type": "code",
   "execution_count": 10,
   "metadata": {},
   "outputs": [
    {
     "data": {
      "text/html": [
       "<div>\n",
       "<style scoped>\n",
       "    .dataframe tbody tr th:only-of-type {\n",
       "        vertical-align: middle;\n",
       "    }\n",
       "\n",
       "    .dataframe tbody tr th {\n",
       "        vertical-align: top;\n",
       "    }\n",
       "\n",
       "    .dataframe thead th {\n",
       "        text-align: right;\n",
       "    }\n",
       "</style>\n",
       "<table border=\"1\" class=\"dataframe\">\n",
       "  <thead>\n",
       "    <tr style=\"text-align: right;\">\n",
       "      <th></th>\n",
       "      <th>index</th>\n",
       "      <th>time</th>\n",
       "    </tr>\n",
       "  </thead>\n",
       "  <tbody>\n",
       "    <tr>\n",
       "      <th>0</th>\n",
       "      <td>25346</td>\n",
       "      <td>6:51:59</td>\n",
       "    </tr>\n",
       "    <tr>\n",
       "      <th>1</th>\n",
       "      <td>25347</td>\n",
       "      <td>6:52:59</td>\n",
       "    </tr>\n",
       "    <tr>\n",
       "      <th>2</th>\n",
       "      <td>25348</td>\n",
       "      <td>6:53:59</td>\n",
       "    </tr>\n",
       "    <tr>\n",
       "      <th>3</th>\n",
       "      <td>25349</td>\n",
       "      <td>6:54:59</td>\n",
       "    </tr>\n",
       "    <tr>\n",
       "      <th>4</th>\n",
       "      <td>25350</td>\n",
       "      <td>6:55:59</td>\n",
       "    </tr>\n",
       "  </tbody>\n",
       "</table>\n",
       "</div>"
      ],
      "text/plain": [
       "   index      time\n",
       "0  25346   6:51:59\n",
       "1  25347   6:52:59\n",
       "2  25348   6:53:59\n",
       "3  25349   6:54:59\n",
       "4  25350   6:55:59"
      ]
     },
     "execution_count": 10,
     "metadata": {},
     "output_type": "execute_result"
    }
   ],
   "source": [
    "df = pd.DataFrame(data, columns=cols)\n",
    "df.head()"
   ]
  },
  {
   "cell_type": "code",
   "execution_count": 11,
   "metadata": {},
   "outputs": [
    {
     "data": {
      "text/plain": [
       "index    191\n",
       "time     191\n",
       "dtype: int64"
      ]
     },
     "execution_count": 11,
     "metadata": {},
     "output_type": "execute_result"
    }
   ],
   "source": [
    "df.count()"
   ]
  },
  {
   "cell_type": "code",
   "execution_count": 12,
   "metadata": {},
   "outputs": [],
   "source": [
    "df = df[:191]"
   ]
  },
  {
   "cell_type": "code",
   "execution_count": 13,
   "metadata": {},
   "outputs": [
    {
     "data": {
      "text/plain": [
       "index    191\n",
       "time     191\n",
       "dtype: int64"
      ]
     },
     "execution_count": 13,
     "metadata": {},
     "output_type": "execute_result"
    }
   ],
   "source": [
    "df.count()"
   ]
  },
  {
   "cell_type": "markdown",
   "metadata": {},
   "source": [
    "#### Create series to hold column(s) of interest and encode as string"
   ]
  },
  {
   "cell_type": "code",
   "execution_count": 14,
   "metadata": {},
   "outputs": [
    {
     "data": {
      "text/plain": [
       "pandas.core.series.Series"
      ]
     },
     "execution_count": 14,
     "metadata": {},
     "output_type": "execute_result"
    }
   ],
   "source": [
    "# sd_series = df['local_date']\n",
    "sd_series = df['time']\n",
    "# sd_series.str.encode(encoding=\"utf-8\")\n",
    "type(sd_series)\n",
    "\n",
    "# ed_series = df['end_date'][:58]\n",
    "# ed_series.str.encode(encoding=\"utf-8\")\n",
    "# type(ed_series)"
   ]
  },
  {
   "cell_type": "code",
   "execution_count": 15,
   "metadata": {},
   "outputs": [
    {
     "data": {
      "text/plain": [
       "0       6:51:59\n",
       "1       6:52:59\n",
       "2       6:53:59\n",
       "3       6:54:59\n",
       "4       6:55:59\n",
       "5       6:56:59\n",
       "6       6:57:59\n",
       "7       6:58:59\n",
       "8       6:59:59\n",
       "9       7:00:59\n",
       "10      7:02:05\n",
       "11      7:03:05\n",
       "12      7:04:05\n",
       "13      7:05:05\n",
       "14      7:06:05\n",
       "15      7:07:05\n",
       "16      7:08:05\n",
       "17      7:09:05\n",
       "18      7:10:05\n",
       "19      7:11:05\n",
       "20      7:12:05\n",
       "21      7:13:05\n",
       "22      7:14:05\n",
       "23      7:15:05\n",
       "24      7:16:05\n",
       "25      7:17:05\n",
       "26      7:18:05\n",
       "27      7:19:05\n",
       "28      7:20:05\n",
       "29      7:21:05\n",
       "         ...   \n",
       "161     9:33:00\n",
       "162     9:34:00\n",
       "163     9:35:00\n",
       "164     9:35:01\n",
       "165     9:35:02\n",
       "166     9:35:06\n",
       "167     9:36:07\n",
       "168     9:37:07\n",
       "169     9:38:07\n",
       "170     9:39:07\n",
       "171     9:40:07\n",
       "172     9:41:07\n",
       "173     9:42:07\n",
       "174     9:43:07\n",
       "175     9:44:07\n",
       "176     9:45:07\n",
       "177     9:46:07\n",
       "178     9:47:07\n",
       "179     9:48:07\n",
       "180     9:49:07\n",
       "181     9:50:07\n",
       "182     9:51:07\n",
       "183     9:52:07\n",
       "184     9:53:07\n",
       "185     9:54:07\n",
       "186     9:55:07\n",
       "187     9:56:07\n",
       "188     9:57:07\n",
       "189     9:58:07\n",
       "190     9:59:07\n",
       "Name: time, Length: 191, dtype: object"
      ]
     },
     "execution_count": 15,
     "metadata": {},
     "output_type": "execute_result"
    }
   ],
   "source": [
    "sd_series"
   ]
  },
  {
   "cell_type": "markdown",
   "metadata": {},
   "source": [
    "#### Import dateparser module"
   ]
  },
  {
   "cell_type": "code",
   "execution_count": 16,
   "metadata": {},
   "outputs": [],
   "source": [
    "import dateparser"
   ]
  },
  {
   "cell_type": "markdown",
   "metadata": {},
   "source": [
    "example showing parsing of one string"
   ]
  },
  {
   "cell_type": "code",
   "execution_count": 17,
   "metadata": {},
   "outputs": [
    {
     "data": {
      "text/plain": [
       "datetime.datetime(2017, 2, 23, 0, 0)"
      ]
     },
     "execution_count": 17,
     "metadata": {},
     "output_type": "execute_result"
    }
   ],
   "source": [
    "date_value = dateparser.parse('23 fevr. 2017')\n",
    "date_value"
   ]
  },
  {
   "cell_type": "code",
   "execution_count": 19,
   "metadata": {},
   "outputs": [
    {
     "data": {
      "text/plain": [
       "pandas.core.series.Series"
      ]
     },
     "execution_count": 19,
     "metadata": {},
     "output_type": "execute_result"
    }
   ],
   "source": [
    "type(df['time'])"
   ]
  },
  {
   "cell_type": "markdown",
   "metadata": {},
   "source": [
    "##### Assign parameters to help parse the date fields correctly"
   ]
  },
  {
   "cell_type": "markdown",
   "metadata": {},
   "source": [
    "create a for-loop which parses dates from 'start_date' field"
   ]
  },
  {
   "cell_type": "code",
   "execution_count": 20,
   "metadata": {},
   "outputs": [
    {
     "data": {
      "text/plain": [
       "[datetime.time(6, 51, 59),\n",
       " datetime.time(6, 52, 59),\n",
       " datetime.time(6, 53, 59),\n",
       " datetime.time(6, 54, 59),\n",
       " datetime.time(6, 55, 59)]"
      ]
     },
     "execution_count": 20,
     "metadata": {},
     "output_type": "execute_result"
    }
   ],
   "source": [
    "# p_date = [dateparser.parse(x).date() for x in sd_series]\n",
    "p_time = [dateparser.parse(x).time() for x in sd_series]\n",
    "p_time[:5]"
   ]
  },
  {
   "cell_type": "markdown",
   "metadata": {},
   "source": [
    "Ensure p_time (parsed_time) is a Pandas series so that we can use Pandas .strip() or .rstrip() function \n",
    "\n",
    "https://pandas.pydata.org/pandas-docs/stable/reference/api/pandas.Series.str.strip.html"
   ]
  },
  {
   "cell_type": "code",
   "execution_count": 21,
   "metadata": {},
   "outputs": [
    {
     "data": {
      "text/plain": [
       "pandas.core.series.Series"
      ]
     },
     "execution_count": 21,
     "metadata": {},
     "output_type": "execute_result"
    }
   ],
   "source": [
    "s = pd.Series(p_time)\n",
    "type(s)"
   ]
  },
  {
   "cell_type": "code",
   "execution_count": 22,
   "metadata": {},
   "outputs": [
    {
     "data": {
      "text/plain": [
       "0    06:51:59\n",
       "1    06:52:59\n",
       "2    06:53:59\n",
       "3    06:54:59\n",
       "4    06:55:59\n",
       "dtype: object"
      ]
     },
     "execution_count": 22,
     "metadata": {},
     "output_type": "execute_result"
    }
   ],
   "source": [
    "s.head()"
   ]
  },
  {
   "cell_type": "code",
   "execution_count": 23,
   "metadata": {},
   "outputs": [
    {
     "data": {
      "text/plain": [
       "0     NaN\n",
       "1     NaN\n",
       "2     NaN\n",
       "3     NaN\n",
       "4     NaN\n",
       "5     NaN\n",
       "6     NaN\n",
       "7     NaN\n",
       "8     NaN\n",
       "9     NaN\n",
       "10    NaN\n",
       "11    NaN\n",
       "12    NaN\n",
       "13    NaN\n",
       "14    NaN\n",
       "15    NaN\n",
       "16    NaN\n",
       "17    NaN\n",
       "18    NaN\n",
       "19    NaN\n",
       "20    NaN\n",
       "21    NaN\n",
       "22    NaN\n",
       "23    NaN\n",
       "24    NaN\n",
       "25    NaN\n",
       "26    NaN\n",
       "27    NaN\n",
       "28    NaN\n",
       "29    NaN\n",
       "       ..\n",
       "161   NaN\n",
       "162   NaN\n",
       "163   NaN\n",
       "164   NaN\n",
       "165   NaN\n",
       "166   NaN\n",
       "167   NaN\n",
       "168   NaN\n",
       "169   NaN\n",
       "170   NaN\n",
       "171   NaN\n",
       "172   NaN\n",
       "173   NaN\n",
       "174   NaN\n",
       "175   NaN\n",
       "176   NaN\n",
       "177   NaN\n",
       "178   NaN\n",
       "179   NaN\n",
       "180   NaN\n",
       "181   NaN\n",
       "182   NaN\n",
       "183   NaN\n",
       "184   NaN\n",
       "185   NaN\n",
       "186   NaN\n",
       "187   NaN\n",
       "188   NaN\n",
       "189   NaN\n",
       "190   NaN\n",
       "Length: 191, dtype: float64"
      ]
     },
     "execution_count": 23,
     "metadata": {},
     "output_type": "execute_result"
    }
   ],
   "source": [
    "# str((p_time[1])).strip()\n",
    "# strip_p_time = str((p_time[x])).strip() for x in p_time()\n",
    "s.str.rstrip()"
   ]
  },
  {
   "cell_type": "markdown",
   "metadata": {},
   "source": [
    "### TODO: still an issue with trailing spaces:\n",
    "#### This sanitize_spaces method is interesting and might be able to help fix this issue"
   ]
  },
  {
   "cell_type": "code",
   "execution_count": 24,
   "metadata": {},
   "outputs": [
    {
     "data": {
      "text/plain": [
       "'06:52'"
      ]
     },
     "execution_count": 24,
     "metadata": {},
     "output_type": "execute_result"
    }
   ],
   "source": [
    "san_time = dateparser.date.sanitize_spaces(str(p_time[1])) ##for x in p_time\n",
    "san_time[:5]"
   ]
  },
  {
   "cell_type": "markdown",
   "metadata": {},
   "source": [
    "##### Use dateparser to parse dates in the dataframe"
   ]
  },
  {
   "cell_type": "markdown",
   "metadata": {},
   "source": [
    "Add new column to dataframe to store parsed_dates"
   ]
  },
  {
   "cell_type": "code",
   "execution_count": 25,
   "metadata": {},
   "outputs": [
    {
     "data": {
      "text/html": [
       "<div>\n",
       "<style scoped>\n",
       "    .dataframe tbody tr th:only-of-type {\n",
       "        vertical-align: middle;\n",
       "    }\n",
       "\n",
       "    .dataframe tbody tr th {\n",
       "        vertical-align: top;\n",
       "    }\n",
       "\n",
       "    .dataframe thead th {\n",
       "        text-align: right;\n",
       "    }\n",
       "</style>\n",
       "<table border=\"1\" class=\"dataframe\">\n",
       "  <thead>\n",
       "    <tr style=\"text-align: right;\">\n",
       "      <th></th>\n",
       "      <th>index</th>\n",
       "      <th>time</th>\n",
       "      <th>parsed_time</th>\n",
       "    </tr>\n",
       "  </thead>\n",
       "  <tbody>\n",
       "    <tr>\n",
       "      <th>0</th>\n",
       "      <td>25346</td>\n",
       "      <td>6:51:59</td>\n",
       "      <td>06:51:59</td>\n",
       "    </tr>\n",
       "    <tr>\n",
       "      <th>1</th>\n",
       "      <td>25347</td>\n",
       "      <td>6:52:59</td>\n",
       "      <td>06:52:59</td>\n",
       "    </tr>\n",
       "    <tr>\n",
       "      <th>2</th>\n",
       "      <td>25348</td>\n",
       "      <td>6:53:59</td>\n",
       "      <td>06:53:59</td>\n",
       "    </tr>\n",
       "    <tr>\n",
       "      <th>3</th>\n",
       "      <td>25349</td>\n",
       "      <td>6:54:59</td>\n",
       "      <td>06:54:59</td>\n",
       "    </tr>\n",
       "    <tr>\n",
       "      <th>4</th>\n",
       "      <td>25350</td>\n",
       "      <td>6:55:59</td>\n",
       "      <td>06:55:59</td>\n",
       "    </tr>\n",
       "  </tbody>\n",
       "</table>\n",
       "</div>"
      ],
      "text/plain": [
       "   index      time parsed_time\n",
       "0  25346   6:51:59    06:51:59\n",
       "1  25347   6:52:59    06:52:59\n",
       "2  25348   6:53:59    06:53:59\n",
       "3  25349   6:54:59    06:54:59\n",
       "4  25350   6:55:59    06:55:59"
      ]
     },
     "execution_count": 25,
     "metadata": {},
     "output_type": "execute_result"
    }
   ],
   "source": [
    "p_df = df.assign(parsed_time = p_time) #parsed_date\n",
    "p_df.head()"
   ]
  },
  {
   "cell_type": "markdown",
   "metadata": {},
   "source": [
    "openpyxl method for writing to worksheet"
   ]
  },
  {
   "cell_type": "code",
   "execution_count": 26,
   "metadata": {},
   "outputs": [],
   "source": [
    "# change directory\n",
    "import os\n",
    "os.chdir(r\"C:\\code\\gecfi\\excel_dateparser\")"
   ]
  },
  {
   "cell_type": "code",
   "execution_count": 27,
   "metadata": {},
   "outputs": [],
   "source": [
    "dest_filename = r\"C:\\data\\gecdb_files\\data_uploads\\COG_NgNtPi\\2014\\00\\work\\_observations\\NgPtPi_time_fixed.xlsx\"\n",
    "dest_sheetname = 'NgPtPi_time_fixed2'\n",
    "\n",
    "# used pandas.DataFrame.to_excel to write DataFrame to an excel sheet\n",
    "p_df.to_excel(excel_writer=dest_filename, sheet_name=dest_sheetname)"
   ]
  },
  {
   "cell_type": "markdown",
   "metadata": {},
   "source": [
    "#### TODO: trailing zero on time is still not fixed"
   ]
  },
  {
   "cell_type": "code",
   "execution_count": null,
   "metadata": {},
   "outputs": [],
   "source": [
    "% whos"
   ]
  },
  {
   "cell_type": "code",
   "execution_count": null,
   "metadata": {},
   "outputs": [],
   "source": [
    "# This saved my life when I overwrote the data!\n",
    "wb.save(r'C:\\code\\gecfi\\excel_dateparser\\please_work.xlsx')"
   ]
  },
  {
   "cell_type": "code",
   "execution_count": null,
   "metadata": {},
   "outputs": [],
   "source": []
  }
 ],
 "metadata": {
  "kernelspec": {
   "display_name": "Python 3",
   "language": "python",
   "name": "python3"
  },
  "language_info": {
   "codemirror_mode": {
    "name": "ipython",
    "version": 3
   },
   "file_extension": ".py",
   "mimetype": "text/x-python",
   "name": "python",
   "nbconvert_exporter": "python",
   "pygments_lexer": "ipython3",
   "version": "3.7.0"
  }
 },
 "nbformat": 4,
 "nbformat_minor": 2
}
