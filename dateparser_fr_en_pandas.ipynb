{
 "cells": [
  {
   "cell_type": "markdown",
   "metadata": {},
   "source": [
    "##### Import pandas & openpyxl libraries"
   ]
  },
  {
   "cell_type": "code",
   "execution_count": 1,
   "metadata": {},
   "outputs": [],
   "source": [
    "import pandas as pd, openpyxl\n",
    "from openpyxl import load_workbook"
   ]
  },
  {
   "cell_type": "markdown",
   "metadata": {},
   "source": [
    "Load workbook into memory"
   ]
  },
  {
   "cell_type": "code",
   "execution_count": 2,
   "metadata": {},
   "outputs": [],
   "source": [
    "wb = load_workbook(r'C:\\data\\gecdb_files\\data_uploads\\COG_Ogouee\\2017\\00\\normalized\\COG_Ogouee_normalized.xlsx')"
   ]
  },
  {
   "cell_type": "markdown",
   "metadata": {},
   "source": [
    "List worksheets"
   ]
  },
  {
   "cell_type": "code",
   "execution_count": 3,
   "metadata": {},
   "outputs": [
    {
     "data": {
      "text/plain": [
       "[<Worksheet \"Metadata\">,\n",
       " <Worksheet \"Survey Strata\">,\n",
       " <Worksheet \"Transects\">,\n",
       " <Worksheet \"Recces\">,\n",
       " <Worksheet \"Transect Observations\">,\n",
       " <Worksheet \"Recce Observations\">,\n",
       " <Worksheet \"Sheet1\">,\n",
       " <Worksheet \"Recce Voyages Observations\">,\n",
       " <Worksheet \"Recce Observations (3)\">,\n",
       " <Worksheet \"Observation Codes\">,\n",
       " <Worksheet \"Species Codes\">,\n",
       " <Worksheet \"Survey Team\">,\n",
       " <Worksheet \"Missions\">,\n",
       " <Worksheet \"Key\">,\n",
       " <Worksheet \"Log\">]"
      ]
     },
     "execution_count": 3,
     "metadata": {},
     "output_type": "execute_result"
    }
   ],
   "source": [
    "wb.worksheets"
   ]
  },
  {
   "cell_type": "markdown",
   "metadata": {},
   "source": [
    "##### Isolate specific sheet"
   ]
  },
  {
   "cell_type": "code",
   "execution_count": 4,
   "metadata": {},
   "outputs": [
    {
     "data": {
      "text/plain": [
       "<Worksheet \"Sheet1\">"
      ]
     },
     "execution_count": 4,
     "metadata": {},
     "output_type": "execute_result"
    }
   ],
   "source": [
    "ws = wb[\"Sheet1\"]\n",
    "ws"
   ]
  },
  {
   "cell_type": "code",
   "execution_count": 5,
   "metadata": {},
   "outputs": [],
   "source": [
    "# wb[\"Recce Observations\"] #.sheet_names wb[\"Missions\"]\n",
    "# ws = wb[\"Recce Observations\"]\n",
    "# ws"
   ]
  },
  {
   "cell_type": "code",
   "execution_count": 6,
   "metadata": {},
   "outputs": [
    {
     "data": {
      "text/plain": [
       "openpyxl.worksheet.worksheet.Worksheet"
      ]
     },
     "execution_count": 6,
     "metadata": {},
     "output_type": "execute_result"
    }
   ],
   "source": [
    "type(ws)"
   ]
  },
  {
   "cell_type": "markdown",
   "metadata": {},
   "source": [
    "define where data exists"
   ]
  },
  {
   "cell_type": "code",
   "execution_count": 7,
   "metadata": {},
   "outputs": [
    {
     "data": {
      "text/plain": [
       "<generator object Worksheet.values at 0x000001614B9B2390>"
      ]
     },
     "execution_count": 7,
     "metadata": {},
     "output_type": "execute_result"
    }
   ],
   "source": [
    "data = ws.values\n",
    "data"
   ]
  },
  {
   "cell_type": "markdown",
   "metadata": {},
   "source": [
    "Read in column names"
   ]
  },
  {
   "cell_type": "code",
   "execution_count": 8,
   "metadata": {},
   "outputs": [
    {
     "data": {
      "text/plain": [
       "('waypoint_id', 'date')"
      ]
     },
     "execution_count": 8,
     "metadata": {},
     "output_type": "execute_result"
    }
   ],
   "source": [
    "cols = next(data) # reads in first row, \n",
    "cols #[:10]"
   ]
  },
  {
   "cell_type": "markdown",
   "metadata": {},
   "source": [
    "Return data as a list"
   ]
  },
  {
   "cell_type": "code",
   "execution_count": 9,
   "metadata": {},
   "outputs": [
    {
     "data": {
      "text/plain": [
       "[(181, '11 aout 2017'), (177, '11 aout 2017')]"
      ]
     },
     "execution_count": 9,
     "metadata": {},
     "output_type": "execute_result"
    }
   ],
   "source": [
    "data = list(data)\n",
    "data[:2] #display first two rows"
   ]
  },
  {
   "cell_type": "markdown",
   "metadata": {},
   "source": [
    "Read data into dataframe and then display head"
   ]
  },
  {
   "cell_type": "code",
   "execution_count": 10,
   "metadata": {},
   "outputs": [
    {
     "data": {
      "text/html": [
       "<div>\n",
       "<style scoped>\n",
       "    .dataframe tbody tr th:only-of-type {\n",
       "        vertical-align: middle;\n",
       "    }\n",
       "\n",
       "    .dataframe tbody tr th {\n",
       "        vertical-align: top;\n",
       "    }\n",
       "\n",
       "    .dataframe thead th {\n",
       "        text-align: right;\n",
       "    }\n",
       "</style>\n",
       "<table border=\"1\" class=\"dataframe\">\n",
       "  <thead>\n",
       "    <tr style=\"text-align: right;\">\n",
       "      <th></th>\n",
       "      <th>waypoint_id</th>\n",
       "      <th>date</th>\n",
       "    </tr>\n",
       "  </thead>\n",
       "  <tbody>\n",
       "    <tr>\n",
       "      <th>0</th>\n",
       "      <td>181</td>\n",
       "      <td>11 aout 2017</td>\n",
       "    </tr>\n",
       "    <tr>\n",
       "      <th>1</th>\n",
       "      <td>177</td>\n",
       "      <td>11 aout 2017</td>\n",
       "    </tr>\n",
       "    <tr>\n",
       "      <th>2</th>\n",
       "      <td>178</td>\n",
       "      <td>11 aout 2017</td>\n",
       "    </tr>\n",
       "    <tr>\n",
       "      <th>3</th>\n",
       "      <td>172</td>\n",
       "      <td>11 aout 2017</td>\n",
       "    </tr>\n",
       "    <tr>\n",
       "      <th>4</th>\n",
       "      <td>189</td>\n",
       "      <td>11 aout 2017</td>\n",
       "    </tr>\n",
       "  </tbody>\n",
       "</table>\n",
       "</div>"
      ],
      "text/plain": [
       "   waypoint_id          date\n",
       "0          181  11 aout 2017\n",
       "1          177  11 aout 2017\n",
       "2          178  11 aout 2017\n",
       "3          172  11 aout 2017\n",
       "4          189  11 aout 2017"
      ]
     },
     "execution_count": 10,
     "metadata": {},
     "output_type": "execute_result"
    }
   ],
   "source": [
    "df = pd.DataFrame(data, columns=cols)\n",
    "df.head()"
   ]
  },
  {
   "cell_type": "code",
   "execution_count": 11,
   "metadata": {},
   "outputs": [
    {
     "data": {
      "text/plain": [
       "waypoint_id    650\n",
       "date           650\n",
       "dtype: int64"
      ]
     },
     "execution_count": 11,
     "metadata": {},
     "output_type": "execute_result"
    }
   ],
   "source": [
    "df.count()"
   ]
  },
  {
   "cell_type": "code",
   "execution_count": 12,
   "metadata": {},
   "outputs": [],
   "source": [
    "df = df[:651]"
   ]
  },
  {
   "cell_type": "code",
   "execution_count": 13,
   "metadata": {},
   "outputs": [
    {
     "data": {
      "text/plain": [
       "waypoint_id    650\n",
       "date           650\n",
       "dtype: int64"
      ]
     },
     "execution_count": 13,
     "metadata": {},
     "output_type": "execute_result"
    }
   ],
   "source": [
    "df.count()"
   ]
  },
  {
   "cell_type": "markdown",
   "metadata": {},
   "source": [
    "Create series to hold column(s) of interest and encode as string"
   ]
  },
  {
   "cell_type": "code",
   "execution_count": 14,
   "metadata": {},
   "outputs": [
    {
     "data": {
      "text/plain": [
       "pandas.core.series.Series"
      ]
     },
     "execution_count": 14,
     "metadata": {},
     "output_type": "execute_result"
    }
   ],
   "source": [
    "sd_series = df['date']\n",
    "sd_series.str.encode(encoding=\"utf-8\")\n",
    "type(sd_series)\n",
    "\n",
    "# ed_series = df['end_date'][:58]\n",
    "# ed_series.str.encode(encoding=\"utf-8\")\n",
    "# type(ed_series)"
   ]
  },
  {
   "cell_type": "code",
   "execution_count": 15,
   "metadata": {},
   "outputs": [
    {
     "data": {
      "text/plain": [
       "0           11 aout 2017\n",
       "1           11 aout 2017\n",
       "2           11 aout 2017\n",
       "3           11 aout 2017\n",
       "4           11 aout 2017\n",
       "5           11 aout 2017\n",
       "6           11 aout 2017\n",
       "7           11 aout 2017\n",
       "8           11 aout 2017\n",
       "9           11 aout 2017\n",
       "10          11 aout 2017\n",
       "11          11 aout 2017\n",
       "12          11 aout 2017\n",
       "13          11 aout 2017\n",
       "14          11 aout 2017\n",
       "15          11 aout 2017\n",
       "16          11 aout 2017\n",
       "17          11 aout 2017\n",
       "18          11 aout 2017\n",
       "19          11 aout 2017\n",
       "20          11 aout 2017\n",
       "21          11 aout 2017\n",
       "22          11 aout 2017\n",
       "23           6 aout 2017\n",
       "24           6 aout 2017\n",
       "25           6 aout 2017\n",
       "26           6 aout 2017\n",
       "27           6 aout 2017\n",
       "28           6 aout 2017\n",
       "29           6 aout 2017\n",
       "             ...        \n",
       "620    18 septembre 2017\n",
       "621    18 septembre 2017\n",
       "622    18 septembre 2017\n",
       "623    18 septembre 2017\n",
       "624    18 septembre 2017\n",
       "625    18 septembre 2017\n",
       "626    18 septembre 2017\n",
       "627    18 septembre 2017\n",
       "628    23 septembre 2017\n",
       "629    23 septembre 2017\n",
       "630    23 septembre 2017\n",
       "631    23 septembre 2017\n",
       "632    23 septembre 2017\n",
       "633    23 septembre 2017\n",
       "634    23 septembre 2017\n",
       "635    23 septembre 2017\n",
       "636    23 septembre 2017\n",
       "637    23 septembre 2017\n",
       "638    23 septembre 2017\n",
       "639    23 septembre 2017\n",
       "640    24 septembre 2017\n",
       "641    24 septembre 2017\n",
       "642    24 septembre 2017\n",
       "643    24 septembre 2017\n",
       "644    24 septembre 2017\n",
       "645    24 septembre 2017\n",
       "646    24 septembre 2017\n",
       "647    24 septembre 2017\n",
       "648    24 septembre 2017\n",
       "649    24 septembre 2017\n",
       "Name: date, Length: 650, dtype: object"
      ]
     },
     "execution_count": 15,
     "metadata": {},
     "output_type": "execute_result"
    }
   ],
   "source": [
    "sd_series"
   ]
  },
  {
   "cell_type": "markdown",
   "metadata": {},
   "source": [
    "#### Import dateparser module"
   ]
  },
  {
   "cell_type": "code",
   "execution_count": 16,
   "metadata": {},
   "outputs": [],
   "source": [
    "import dateparser"
   ]
  },
  {
   "cell_type": "markdown",
   "metadata": {},
   "source": [
    "example showing parsing of one string"
   ]
  },
  {
   "cell_type": "code",
   "execution_count": 17,
   "metadata": {},
   "outputs": [
    {
     "data": {
      "text/plain": [
       "datetime.datetime(2017, 2, 23, 0, 0)"
      ]
     },
     "execution_count": 17,
     "metadata": {},
     "output_type": "execute_result"
    }
   ],
   "source": [
    "date_value = dateparser.parse('23 fevr. 2017')\n",
    "date_value"
   ]
  },
  {
   "cell_type": "code",
   "execution_count": 18,
   "metadata": {},
   "outputs": [
    {
     "data": {
      "text/plain": [
       "pandas.core.series.Series"
      ]
     },
     "execution_count": 18,
     "metadata": {},
     "output_type": "execute_result"
    }
   ],
   "source": [
    "type(df['date'])"
   ]
  },
  {
   "cell_type": "markdown",
   "metadata": {},
   "source": [
    "##### Assign parameters to help parse the date fields correctly"
   ]
  },
  {
   "cell_type": "markdown",
   "metadata": {},
   "source": [
    "create a for-loop which parses dates from 'start_date' field"
   ]
  },
  {
   "cell_type": "code",
   "execution_count": 19,
   "metadata": {},
   "outputs": [
    {
     "data": {
      "text/plain": [
       "[datetime.date(2017, 8, 11),\n",
       " datetime.date(2017, 8, 11),\n",
       " datetime.date(2017, 8, 11),\n",
       " datetime.date(2017, 8, 11),\n",
       " datetime.date(2017, 8, 11)]"
      ]
     },
     "execution_count": 19,
     "metadata": {},
     "output_type": "execute_result"
    }
   ],
   "source": [
    "p_date = [dateparser.parse(x).date() for x in sd_series]\n",
    "p_date[:5]"
   ]
  },
  {
   "cell_type": "code",
   "execution_count": 20,
   "metadata": {},
   "outputs": [],
   "source": [
    "# p_end_date = [dateparser.parse(x).date() for x in ed_series]\n",
    "# p_end_date[:5] "
   ]
  },
  {
   "cell_type": "markdown",
   "metadata": {},
   "source": [
    "##### Use dateparser to parse dates in the dataframe"
   ]
  },
  {
   "cell_type": "markdown",
   "metadata": {},
   "source": [
    "Add new column to dataframe to store parsed_dates"
   ]
  },
  {
   "cell_type": "code",
   "execution_count": 21,
   "metadata": {},
   "outputs": [
    {
     "data": {
      "text/html": [
       "<div>\n",
       "<style scoped>\n",
       "    .dataframe tbody tr th:only-of-type {\n",
       "        vertical-align: middle;\n",
       "    }\n",
       "\n",
       "    .dataframe tbody tr th {\n",
       "        vertical-align: top;\n",
       "    }\n",
       "\n",
       "    .dataframe thead th {\n",
       "        text-align: right;\n",
       "    }\n",
       "</style>\n",
       "<table border=\"1\" class=\"dataframe\">\n",
       "  <thead>\n",
       "    <tr style=\"text-align: right;\">\n",
       "      <th></th>\n",
       "      <th>waypoint_id</th>\n",
       "      <th>date</th>\n",
       "    </tr>\n",
       "  </thead>\n",
       "  <tbody>\n",
       "    <tr>\n",
       "      <th>0</th>\n",
       "      <td>181</td>\n",
       "      <td>2017-08-11</td>\n",
       "    </tr>\n",
       "    <tr>\n",
       "      <th>1</th>\n",
       "      <td>177</td>\n",
       "      <td>2017-08-11</td>\n",
       "    </tr>\n",
       "    <tr>\n",
       "      <th>2</th>\n",
       "      <td>178</td>\n",
       "      <td>2017-08-11</td>\n",
       "    </tr>\n",
       "    <tr>\n",
       "      <th>3</th>\n",
       "      <td>172</td>\n",
       "      <td>2017-08-11</td>\n",
       "    </tr>\n",
       "    <tr>\n",
       "      <th>4</th>\n",
       "      <td>189</td>\n",
       "      <td>2017-08-11</td>\n",
       "    </tr>\n",
       "  </tbody>\n",
       "</table>\n",
       "</div>"
      ],
      "text/plain": [
       "   waypoint_id        date\n",
       "0          181  2017-08-11\n",
       "1          177  2017-08-11\n",
       "2          178  2017-08-11\n",
       "3          172  2017-08-11\n",
       "4          189  2017-08-11"
      ]
     },
     "execution_count": 21,
     "metadata": {},
     "output_type": "execute_result"
    }
   ],
   "source": [
    "p_df = df.assign(date = p_date) #parsed_date\n",
    "p_df.head()"
   ]
  },
  {
   "cell_type": "markdown",
   "metadata": {},
   "source": [
    "openpyxl method for writing to worksheet"
   ]
  },
  {
   "cell_type": "code",
   "execution_count": 22,
   "metadata": {},
   "outputs": [],
   "source": [
    "# change directory\n",
    "import os\n",
    "os.chdir(r\"C:\\code\\gecfi\\excel_dateparser\")"
   ]
  },
  {
   "cell_type": "code",
   "execution_count": 23,
   "metadata": {},
   "outputs": [],
   "source": [
    "dest_filename = r\"C:\\code\\\\gecfi\\excel_dateparser\\example_table.xlsx\"\n",
    "dest_sheetname = 'Waypoints2_parsed'\n",
    "\n",
    "# used pandas.DataFrame.to_excel to write DataFrame to an excel sheet\n",
    "p_df.to_excel(excel_writer=dest_filename, sheet_name=dest_sheetname)"
   ]
  },
  {
   "cell_type": "code",
   "execution_count": null,
   "metadata": {},
   "outputs": [],
   "source": [
    "% whos"
   ]
  },
  {
   "cell_type": "code",
   "execution_count": null,
   "metadata": {},
   "outputs": [],
   "source": [
    "# This saved my life when I overwrote the data!\n",
    "wb.save(r'C:\\code\\gecfi\\excel_dateparser\\please_work.xlsx')"
   ]
  },
  {
   "cell_type": "code",
   "execution_count": null,
   "metadata": {},
   "outputs": [],
   "source": []
  }
 ],
 "metadata": {
  "kernelspec": {
   "display_name": "Python 3",
   "language": "python",
   "name": "python3"
  },
  "language_info": {
   "codemirror_mode": {
    "name": "ipython",
    "version": 3
   },
   "file_extension": ".py",
   "mimetype": "text/x-python",
   "name": "python",
   "nbconvert_exporter": "python",
   "pygments_lexer": "ipython3",
   "version": "3.7.0"
  }
 },
 "nbformat": 4,
 "nbformat_minor": 2
}
