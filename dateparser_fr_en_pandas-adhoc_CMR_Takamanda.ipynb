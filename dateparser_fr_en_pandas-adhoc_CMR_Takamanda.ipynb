{
 "cells": [
  {
   "cell_type": "markdown",
   "metadata": {},
   "source": [
    "##### Import pandas & openpyxl libraries"
   ]
  },
  {
   "cell_type": "code",
   "execution_count": 2,
   "metadata": {},
   "outputs": [],
   "source": [
    "import pandas as pd, openpyxl\n",
    "from openpyxl import load_workbook"
   ]
  },
  {
   "cell_type": "markdown",
   "metadata": {},
   "source": [
    "Load workbook into memory"
   ]
  },
  {
   "cell_type": "code",
   "execution_count": 9,
   "metadata": {},
   "outputs": [],
   "source": [
    "# wb = load_workbook(r'C:\\data\\gecdb_files\\data_uploads\\COG_Ogouee\\2017\\00\\normalized\\COG_Ogouee_normalized.xlsx')\n",
    "wb = load_workbook(r'C:\\data\\gecdb_files\\data_uploads\\CMR_Takamanda\\2013\\00\\work\\_observations\\Takamanda-recces_2013.xlsx')"
   ]
  },
  {
   "cell_type": "markdown",
   "metadata": {},
   "source": [
    "List worksheets"
   ]
  },
  {
   "cell_type": "code",
   "execution_count": 10,
   "metadata": {},
   "outputs": [
    {
     "data": {
      "text/plain": [
       "[<Worksheet \"data\">]"
      ]
     },
     "execution_count": 10,
     "metadata": {},
     "output_type": "execute_result"
    }
   ],
   "source": [
    "wb.worksheets"
   ]
  },
  {
   "cell_type": "markdown",
   "metadata": {},
   "source": [
    "##### Isolate specific sheet"
   ]
  },
  {
   "cell_type": "code",
   "execution_count": 11,
   "metadata": {},
   "outputs": [
    {
     "data": {
      "text/plain": [
       "<Worksheet \"data\">"
      ]
     },
     "execution_count": 11,
     "metadata": {},
     "output_type": "execute_result"
    }
   ],
   "source": [
    "ws = wb[\"data\"]\n",
    "ws"
   ]
  },
  {
   "cell_type": "code",
   "execution_count": 12,
   "metadata": {},
   "outputs": [],
   "source": [
    "# wb[\"Recce Observations\"] #.sheet_names wb[\"Missions\"]\n",
    "# ws = wb[\"Recce Observations\"]\n",
    "# ws"
   ]
  },
  {
   "cell_type": "code",
   "execution_count": 13,
   "metadata": {},
   "outputs": [
    {
     "data": {
      "text/plain": [
       "openpyxl.worksheet.worksheet.Worksheet"
      ]
     },
     "execution_count": 13,
     "metadata": {},
     "output_type": "execute_result"
    }
   ],
   "source": [
    "type(ws)"
   ]
  },
  {
   "cell_type": "markdown",
   "metadata": {},
   "source": [
    "define where data exists"
   ]
  },
  {
   "cell_type": "code",
   "execution_count": 21,
   "metadata": {},
   "outputs": [
    {
     "data": {
      "text/plain": [
       "<generator object Worksheet.values at 0x00000253F1037A20>"
      ]
     },
     "execution_count": 21,
     "metadata": {},
     "output_type": "execute_result"
    }
   ],
   "source": [
    "data = ws.values\n",
    "data"
   ]
  },
  {
   "cell_type": "markdown",
   "metadata": {},
   "source": [
    "Read in column names"
   ]
  },
  {
   "cell_type": "code",
   "execution_count": 22,
   "metadata": {},
   "outputs": [
    {
     "data": {
      "text/plain": [
       "('Date', 'Time')"
      ]
     },
     "execution_count": 22,
     "metadata": {},
     "output_type": "execute_result"
    }
   ],
   "source": [
    "cols = next(data) # reads in first row, \n",
    "cols[:2]\n",
    "# two_cols = cols[:2]\n",
    "# two_cols"
   ]
  },
  {
   "cell_type": "markdown",
   "metadata": {},
   "source": [
    "Return data as a list"
   ]
  },
  {
   "cell_type": "code",
   "execution_count": 23,
   "metadata": {},
   "outputs": [
    {
     "data": {
      "text/plain": [
       "[(datetime.datetime(2013, 5, 21, 0, 0),\n",
       "  '10:42:31',\n",
       "  6.10323333333333,\n",
       "  9.404855,\n",
       "  165.3,\n",
       "  'Takamanda',\n",
       "  'GORILLA_GUARD_2',\n",
       "  'Wildlife survey',\n",
       "  'AE',\n",
       "  'ZA EM JN PN DN FO',\n",
       "  'RECORD START POINT',\n",
       "  None,\n",
       "  None,\n",
       "  None,\n",
       "  None,\n",
       "  None,\n",
       "  None,\n",
       "  None,\n",
       "  None,\n",
       "  None,\n",
       "  None,\n",
       "  None,\n",
       "  None,\n",
       "  None,\n",
       "  None),\n",
       " (datetime.datetime(2013, 5, 21, 0, 0),\n",
       "  '10:43:56',\n",
       "  6.10295333333333,\n",
       "  9.404865,\n",
       "  192.5,\n",
       "  'Takamanda',\n",
       "  'GORILLA_GUARD_2',\n",
       "  'Wildlife survey',\n",
       "  'AE',\n",
       "  'ZA EM JN PN DN FO',\n",
       "  'Weather and Vegetation',\n",
       "  None,\n",
       "  None,\n",
       "  None,\n",
       "  None,\n",
       "  None,\n",
       "  None,\n",
       "  None,\n",
       "  None,\n",
       "  None,\n",
       "  None,\n",
       "  None,\n",
       "  None,\n",
       "  None,\n",
       "  'Sunny')]"
      ]
     },
     "execution_count": 23,
     "metadata": {},
     "output_type": "execute_result"
    }
   ],
   "source": [
    "data = list(data)\n",
    "data[:2] #display first two rows\n",
    "# two_data = data[:2]\n",
    "# two_data"
   ]
  },
  {
   "cell_type": "markdown",
   "metadata": {},
   "source": [
    "Read data into dataframe and then display head"
   ]
  },
  {
   "cell_type": "code",
   "execution_count": 24,
   "metadata": {},
   "outputs": [
    {
     "data": {
      "text/html": [
       "<div>\n",
       "<style scoped>\n",
       "    .dataframe tbody tr th:only-of-type {\n",
       "        vertical-align: middle;\n",
       "    }\n",
       "\n",
       "    .dataframe tbody tr th {\n",
       "        vertical-align: top;\n",
       "    }\n",
       "\n",
       "    .dataframe thead th {\n",
       "        text-align: right;\n",
       "    }\n",
       "</style>\n",
       "<table border=\"1\" class=\"dataframe\">\n",
       "  <thead>\n",
       "    <tr style=\"text-align: right;\">\n",
       "      <th></th>\n",
       "      <th>Date</th>\n",
       "      <th>Time</th>\n",
       "      <th>Latitude</th>\n",
       "      <th>Longitude</th>\n",
       "      <th>Altitude</th>\n",
       "      <th>Location</th>\n",
       "      <th>Unit_ID</th>\n",
       "      <th>work_type</th>\n",
       "      <th>Observer_name</th>\n",
       "      <th>team_members</th>\n",
       "      <th>...</th>\n",
       "      <th>Age</th>\n",
       "      <th>Human activity</th>\n",
       "      <th>Farming Type</th>\n",
       "      <th>Logging Type</th>\n",
       "      <th>Hunting Type</th>\n",
       "      <th>Gun Evidence</th>\n",
       "      <th>Trapping Evidence</th>\n",
       "      <th>remove_trap</th>\n",
       "      <th>traps_observed</th>\n",
       "      <th>Weather</th>\n",
       "    </tr>\n",
       "  </thead>\n",
       "  <tbody>\n",
       "    <tr>\n",
       "      <th>0</th>\n",
       "      <td>2013-05-21</td>\n",
       "      <td>10:42:31</td>\n",
       "      <td>6.103233</td>\n",
       "      <td>9.404855</td>\n",
       "      <td>165.3</td>\n",
       "      <td>Takamanda</td>\n",
       "      <td>GORILLA_GUARD_2</td>\n",
       "      <td>Wildlife survey</td>\n",
       "      <td>AE</td>\n",
       "      <td>ZA EM JN PN DN FO</td>\n",
       "      <td>...</td>\n",
       "      <td>None</td>\n",
       "      <td>None</td>\n",
       "      <td>None</td>\n",
       "      <td>None</td>\n",
       "      <td>None</td>\n",
       "      <td>None</td>\n",
       "      <td>None</td>\n",
       "      <td>None</td>\n",
       "      <td>NaN</td>\n",
       "      <td>None</td>\n",
       "    </tr>\n",
       "    <tr>\n",
       "      <th>1</th>\n",
       "      <td>2013-05-21</td>\n",
       "      <td>10:43:56</td>\n",
       "      <td>6.102953</td>\n",
       "      <td>9.404865</td>\n",
       "      <td>192.5</td>\n",
       "      <td>Takamanda</td>\n",
       "      <td>GORILLA_GUARD_2</td>\n",
       "      <td>Wildlife survey</td>\n",
       "      <td>AE</td>\n",
       "      <td>ZA EM JN PN DN FO</td>\n",
       "      <td>...</td>\n",
       "      <td>None</td>\n",
       "      <td>None</td>\n",
       "      <td>None</td>\n",
       "      <td>None</td>\n",
       "      <td>None</td>\n",
       "      <td>None</td>\n",
       "      <td>None</td>\n",
       "      <td>None</td>\n",
       "      <td>NaN</td>\n",
       "      <td>Sunny</td>\n",
       "    </tr>\n",
       "    <tr>\n",
       "      <th>2</th>\n",
       "      <td>2013-05-21</td>\n",
       "      <td>10:45:17</td>\n",
       "      <td>6.103090</td>\n",
       "      <td>9.404838</td>\n",
       "      <td>179.4</td>\n",
       "      <td>Takamanda</td>\n",
       "      <td>GORILLA_GUARD_2</td>\n",
       "      <td>Wildlife survey</td>\n",
       "      <td>AE</td>\n",
       "      <td>ZA EM JN PN DN FO</td>\n",
       "      <td>...</td>\n",
       "      <td>None</td>\n",
       "      <td>None</td>\n",
       "      <td>None</td>\n",
       "      <td>None</td>\n",
       "      <td>None</td>\n",
       "      <td>None</td>\n",
       "      <td>None</td>\n",
       "      <td>None</td>\n",
       "      <td>NaN</td>\n",
       "      <td>None</td>\n",
       "    </tr>\n",
       "    <tr>\n",
       "      <th>3</th>\n",
       "      <td>2013-05-21</td>\n",
       "      <td>11:00:38</td>\n",
       "      <td>6.103187</td>\n",
       "      <td>9.405983</td>\n",
       "      <td>152.9</td>\n",
       "      <td>Takamanda</td>\n",
       "      <td>GORILLA_GUARD_2</td>\n",
       "      <td>Wildlife survey</td>\n",
       "      <td>AE</td>\n",
       "      <td>ZA EM JN PN DN FO</td>\n",
       "      <td>...</td>\n",
       "      <td>None</td>\n",
       "      <td>None</td>\n",
       "      <td>None</td>\n",
       "      <td>None</td>\n",
       "      <td>None</td>\n",
       "      <td>None</td>\n",
       "      <td>None</td>\n",
       "      <td>None</td>\n",
       "      <td>NaN</td>\n",
       "      <td>Sunny</td>\n",
       "    </tr>\n",
       "    <tr>\n",
       "      <th>4</th>\n",
       "      <td>2013-05-21</td>\n",
       "      <td>11:02:08</td>\n",
       "      <td>6.103038</td>\n",
       "      <td>9.405970</td>\n",
       "      <td>161.7</td>\n",
       "      <td>Takamanda</td>\n",
       "      <td>GORILLA_GUARD_2</td>\n",
       "      <td>Wildlife survey</td>\n",
       "      <td>AE</td>\n",
       "      <td>ZA EM JN PN DN FO</td>\n",
       "      <td>...</td>\n",
       "      <td>None</td>\n",
       "      <td>None</td>\n",
       "      <td>None</td>\n",
       "      <td>None</td>\n",
       "      <td>None</td>\n",
       "      <td>None</td>\n",
       "      <td>None</td>\n",
       "      <td>None</td>\n",
       "      <td>NaN</td>\n",
       "      <td>None</td>\n",
       "    </tr>\n",
       "  </tbody>\n",
       "</table>\n",
       "<p>5 rows × 25 columns</p>\n",
       "</div>"
      ],
      "text/plain": [
       "        Date      Time  Latitude  Longitude  Altitude   Location  \\\n",
       "0 2013-05-21  10:42:31  6.103233   9.404855     165.3  Takamanda   \n",
       "1 2013-05-21  10:43:56  6.102953   9.404865     192.5  Takamanda   \n",
       "2 2013-05-21  10:45:17  6.103090   9.404838     179.4  Takamanda   \n",
       "3 2013-05-21  11:00:38  6.103187   9.405983     152.9  Takamanda   \n",
       "4 2013-05-21  11:02:08  6.103038   9.405970     161.7  Takamanda   \n",
       "\n",
       "           Unit_ID        work_type Observer_name       team_members   ...    \\\n",
       "0  GORILLA_GUARD_2  Wildlife survey            AE  ZA EM JN PN DN FO   ...     \n",
       "1  GORILLA_GUARD_2  Wildlife survey            AE  ZA EM JN PN DN FO   ...     \n",
       "2  GORILLA_GUARD_2  Wildlife survey            AE  ZA EM JN PN DN FO   ...     \n",
       "3  GORILLA_GUARD_2  Wildlife survey            AE  ZA EM JN PN DN FO   ...     \n",
       "4  GORILLA_GUARD_2  Wildlife survey            AE  ZA EM JN PN DN FO   ...     \n",
       "\n",
       "    Age Human activity Farming Type Logging Type Hunting Type Gun Evidence  \\\n",
       "0  None           None         None         None         None         None   \n",
       "1  None           None         None         None         None         None   \n",
       "2  None           None         None         None         None         None   \n",
       "3  None           None         None         None         None         None   \n",
       "4  None           None         None         None         None         None   \n",
       "\n",
       "  Trapping Evidence remove_trap traps_observed Weather  \n",
       "0              None        None            NaN    None  \n",
       "1              None        None            NaN   Sunny  \n",
       "2              None        None            NaN    None  \n",
       "3              None        None            NaN   Sunny  \n",
       "4              None        None            NaN    None  \n",
       "\n",
       "[5 rows x 25 columns]"
      ]
     },
     "execution_count": 24,
     "metadata": {},
     "output_type": "execute_result"
    }
   ],
   "source": [
    "df = pd.DataFrame(data, columns=cols)\n",
    "df.head()"
   ]
  },
  {
   "cell_type": "code",
   "execution_count": 25,
   "metadata": {},
   "outputs": [
    {
     "data": {
      "text/plain": [
       "Date                 3305\n",
       "Time                 3305\n",
       "Latitude             3174\n",
       "Longitude            3174\n",
       "Altitude             1886\n",
       "Location             3305\n",
       "Unit_ID              3305\n",
       "work_type            3305\n",
       "Observer_name        3305\n",
       "team_members         3262\n",
       "Observation          3305\n",
       "Note                  405\n",
       "animal_type          1299\n",
       "species              1299\n",
       "sign_type            1299\n",
       "Age                  1435\n",
       "Human activity        528\n",
       "Farming Type           59\n",
       "Logging Type            6\n",
       "Hunting Type          131\n",
       "Gun Evidence           65\n",
       "Trapping Evidence      66\n",
       "remove_trap            62\n",
       "traps_observed          4\n",
       "Weather               551\n",
       "dtype: int64"
      ]
     },
     "execution_count": 25,
     "metadata": {},
     "output_type": "execute_result"
    }
   ],
   "source": [
    "df.count()"
   ]
  },
  {
   "cell_type": "code",
   "execution_count": 26,
   "metadata": {},
   "outputs": [],
   "source": [
    "df = df[:3305]"
   ]
  },
  {
   "cell_type": "code",
   "execution_count": 27,
   "metadata": {},
   "outputs": [
    {
     "data": {
      "text/plain": [
       "Date                 3305\n",
       "Time                 3305\n",
       "Latitude             3174\n",
       "Longitude            3174\n",
       "Altitude             1886\n",
       "Location             3305\n",
       "Unit_ID              3305\n",
       "work_type            3305\n",
       "Observer_name        3305\n",
       "team_members         3262\n",
       "Observation          3305\n",
       "Note                  405\n",
       "animal_type          1299\n",
       "species              1299\n",
       "sign_type            1299\n",
       "Age                  1435\n",
       "Human activity        528\n",
       "Farming Type           59\n",
       "Logging Type            6\n",
       "Hunting Type          131\n",
       "Gun Evidence           65\n",
       "Trapping Evidence      66\n",
       "remove_trap            62\n",
       "traps_observed          4\n",
       "Weather               551\n",
       "dtype: int64"
      ]
     },
     "execution_count": 27,
     "metadata": {},
     "output_type": "execute_result"
    }
   ],
   "source": [
    "df.count()"
   ]
  },
  {
   "cell_type": "markdown",
   "metadata": {},
   "source": [
    "#### Create series to hold column(s) of interest and encode as string"
   ]
  },
  {
   "cell_type": "code",
   "execution_count": 28,
   "metadata": {},
   "outputs": [
    {
     "data": {
      "text/plain": [
       "pandas.core.series.Series"
      ]
     },
     "execution_count": 28,
     "metadata": {},
     "output_type": "execute_result"
    }
   ],
   "source": [
    "# sd_series = df['local_date']\n",
    "sd_series = df['Time']\n",
    "# sd_series.str.encode(encoding=\"utf-8\")\n",
    "type(sd_series)\n",
    "\n",
    "# ed_series = df['end_date'][:58]\n",
    "# ed_series.str.encode(encoding=\"utf-8\")\n",
    "# type(ed_series)"
   ]
  },
  {
   "cell_type": "code",
   "execution_count": 29,
   "metadata": {},
   "outputs": [
    {
     "data": {
      "text/plain": [
       "0       10:42:31\n",
       "1       10:43:56\n",
       "2       10:45:17\n",
       "3       11:00:38\n",
       "4       11:02:08\n",
       "5       11:05:30\n",
       "6       11:06:17\n",
       "7       11:08:06\n",
       "8       11:09:07\n",
       "9       11:12:03\n",
       "10      11:14:28\n",
       "11      11:15:17\n",
       "12      11:20:19\n",
       "13      11:21:10\n",
       "14      11:29:24\n",
       "15      11:41:26\n",
       "16      11:43:27\n",
       "17      11:51:59\n",
       "18      12:05:55\n",
       "19      12:07:28\n",
       "20      12:14:49\n",
       "21      12:19:56\n",
       "22      12:43:29\n",
       "23      13:03:32\n",
       "24      13:09:40\n",
       "25      13:10:32\n",
       "26      13:36:42\n",
       "27      13:37:58\n",
       "28      13:42:40\n",
       "29      13:43:43\n",
       "          ...   \n",
       "3275    11:00:22\n",
       "3276    11:00:50\n",
       "3277    11:17:16\n",
       "3278    11:18:43\n",
       "3279    11:31:51\n",
       "3280    11:34:50\n",
       "3281    11:40:17\n",
       "3282    11:57:16\n",
       "3283    12:05:37\n",
       "3284    12:06:16\n",
       "3285    12:16:02\n",
       "3286    12:17:53\n",
       "3287    12:58:28\n",
       "3288    12:59:38\n",
       "3289    14:17:08\n",
       "3290    14:20:19\n",
       "3291    14:26:38\n",
       "3292    14:38:51\n",
       "3293    14:41:45\n",
       "3294    14:44:11\n",
       "3295    14:52:10\n",
       "3296    14:59:03\n",
       "3297    15:00:20\n",
       "3298    15:59:34\n",
       "3299    16:00:11\n",
       "3300    16:09:31\n",
       "3301    16:29:59\n",
       "3302    16:42:49\n",
       "3303    17:26:01\n",
       "3304    17:30:22\n",
       "Name: Time, Length: 3305, dtype: object"
      ]
     },
     "execution_count": 29,
     "metadata": {},
     "output_type": "execute_result"
    }
   ],
   "source": [
    "sd_series"
   ]
  },
  {
   "cell_type": "markdown",
   "metadata": {},
   "source": [
    "#### Import dateparser module"
   ]
  },
  {
   "cell_type": "code",
   "execution_count": 30,
   "metadata": {},
   "outputs": [],
   "source": [
    "import dateparser"
   ]
  },
  {
   "cell_type": "markdown",
   "metadata": {},
   "source": [
    "example showing parsing of one string"
   ]
  },
  {
   "cell_type": "code",
   "execution_count": 31,
   "metadata": {},
   "outputs": [
    {
     "data": {
      "text/plain": [
       "datetime.datetime(2017, 2, 23, 0, 0)"
      ]
     },
     "execution_count": 31,
     "metadata": {},
     "output_type": "execute_result"
    }
   ],
   "source": [
    "date_value = dateparser.parse('23 fevr. 2017')\n",
    "date_value"
   ]
  },
  {
   "cell_type": "code",
   "execution_count": 33,
   "metadata": {},
   "outputs": [
    {
     "data": {
      "text/plain": [
       "pandas.core.series.Series"
      ]
     },
     "execution_count": 33,
     "metadata": {},
     "output_type": "execute_result"
    }
   ],
   "source": [
    "type(df['Time'])"
   ]
  },
  {
   "cell_type": "markdown",
   "metadata": {},
   "source": [
    "##### Assign parameters to help parse the date fields correctly"
   ]
  },
  {
   "cell_type": "markdown",
   "metadata": {},
   "source": [
    "create a for-loop which parses dates from 'start_date' field"
   ]
  },
  {
   "cell_type": "code",
   "execution_count": 34,
   "metadata": {},
   "outputs": [
    {
     "data": {
      "text/plain": [
       "[datetime.time(10, 42, 31),\n",
       " datetime.time(10, 43, 56),\n",
       " datetime.time(10, 45, 17),\n",
       " datetime.time(11, 0, 38),\n",
       " datetime.time(11, 2, 8)]"
      ]
     },
     "execution_count": 34,
     "metadata": {},
     "output_type": "execute_result"
    }
   ],
   "source": [
    "# p_date = [dateparser.parse(x).date() for x in sd_series]\n",
    "p_time = [dateparser.parse(x).time() for x in sd_series]\n",
    "p_time[:5]"
   ]
  },
  {
   "cell_type": "markdown",
   "metadata": {},
   "source": [
    "Ensure p_time (parsed_time) is a Pandas series so that we can use Pandas .strip() or .rstrip() function \n",
    "\n",
    "https://pandas.pydata.org/pandas-docs/stable/reference/api/pandas.Series.str.strip.html"
   ]
  },
  {
   "cell_type": "code",
   "execution_count": 35,
   "metadata": {},
   "outputs": [
    {
     "data": {
      "text/plain": [
       "pandas.core.series.Series"
      ]
     },
     "execution_count": 35,
     "metadata": {},
     "output_type": "execute_result"
    }
   ],
   "source": [
    "s = pd.Series(p_time)\n",
    "type(s)"
   ]
  },
  {
   "cell_type": "code",
   "execution_count": 36,
   "metadata": {},
   "outputs": [
    {
     "data": {
      "text/plain": [
       "0    10:42:31\n",
       "1    10:43:56\n",
       "2    10:45:17\n",
       "3    11:00:38\n",
       "4    11:02:08\n",
       "dtype: object"
      ]
     },
     "execution_count": 36,
     "metadata": {},
     "output_type": "execute_result"
    }
   ],
   "source": [
    "s.head()"
   ]
  },
  {
   "cell_type": "code",
   "execution_count": 37,
   "metadata": {},
   "outputs": [
    {
     "data": {
      "text/plain": [
       "0      NaN\n",
       "1      NaN\n",
       "2      NaN\n",
       "3      NaN\n",
       "4      NaN\n",
       "5      NaN\n",
       "6      NaN\n",
       "7      NaN\n",
       "8      NaN\n",
       "9      NaN\n",
       "10     NaN\n",
       "11     NaN\n",
       "12     NaN\n",
       "13     NaN\n",
       "14     NaN\n",
       "15     NaN\n",
       "16     NaN\n",
       "17     NaN\n",
       "18     NaN\n",
       "19     NaN\n",
       "20     NaN\n",
       "21     NaN\n",
       "22     NaN\n",
       "23     NaN\n",
       "24     NaN\n",
       "25     NaN\n",
       "26     NaN\n",
       "27     NaN\n",
       "28     NaN\n",
       "29     NaN\n",
       "        ..\n",
       "3275   NaN\n",
       "3276   NaN\n",
       "3277   NaN\n",
       "3278   NaN\n",
       "3279   NaN\n",
       "3280   NaN\n",
       "3281   NaN\n",
       "3282   NaN\n",
       "3283   NaN\n",
       "3284   NaN\n",
       "3285   NaN\n",
       "3286   NaN\n",
       "3287   NaN\n",
       "3288   NaN\n",
       "3289   NaN\n",
       "3290   NaN\n",
       "3291   NaN\n",
       "3292   NaN\n",
       "3293   NaN\n",
       "3294   NaN\n",
       "3295   NaN\n",
       "3296   NaN\n",
       "3297   NaN\n",
       "3298   NaN\n",
       "3299   NaN\n",
       "3300   NaN\n",
       "3301   NaN\n",
       "3302   NaN\n",
       "3303   NaN\n",
       "3304   NaN\n",
       "Length: 3305, dtype: float64"
      ]
     },
     "execution_count": 37,
     "metadata": {},
     "output_type": "execute_result"
    }
   ],
   "source": [
    "# str((p_time[1])).strip()\n",
    "# strip_p_time = str((p_time[x])).strip() for x in p_time()\n",
    "s.str.rstrip()"
   ]
  },
  {
   "cell_type": "markdown",
   "metadata": {},
   "source": [
    "### TODO: still an issue with trailing spaces:\n",
    "#### This sanitize_spaces method is interesting and might be able to help fix this issue"
   ]
  },
  {
   "cell_type": "code",
   "execution_count": 38,
   "metadata": {},
   "outputs": [
    {
     "data": {
      "text/plain": [
       "'10:43'"
      ]
     },
     "execution_count": 38,
     "metadata": {},
     "output_type": "execute_result"
    }
   ],
   "source": [
    "san_time = dateparser.date.sanitize_spaces(str(p_time[1])) ##for x in p_time\n",
    "san_time[:5]"
   ]
  },
  {
   "cell_type": "markdown",
   "metadata": {},
   "source": [
    "##### Use dateparser to parse dates in the dataframe"
   ]
  },
  {
   "cell_type": "markdown",
   "metadata": {},
   "source": [
    "Add new column to dataframe to store parsed_dates"
   ]
  },
  {
   "cell_type": "code",
   "execution_count": 39,
   "metadata": {},
   "outputs": [
    {
     "data": {
      "text/html": [
       "<div>\n",
       "<style scoped>\n",
       "    .dataframe tbody tr th:only-of-type {\n",
       "        vertical-align: middle;\n",
       "    }\n",
       "\n",
       "    .dataframe tbody tr th {\n",
       "        vertical-align: top;\n",
       "    }\n",
       "\n",
       "    .dataframe thead th {\n",
       "        text-align: right;\n",
       "    }\n",
       "</style>\n",
       "<table border=\"1\" class=\"dataframe\">\n",
       "  <thead>\n",
       "    <tr style=\"text-align: right;\">\n",
       "      <th></th>\n",
       "      <th>Date</th>\n",
       "      <th>Time</th>\n",
       "      <th>Latitude</th>\n",
       "      <th>Longitude</th>\n",
       "      <th>Altitude</th>\n",
       "      <th>Location</th>\n",
       "      <th>Unit_ID</th>\n",
       "      <th>work_type</th>\n",
       "      <th>Observer_name</th>\n",
       "      <th>team_members</th>\n",
       "      <th>...</th>\n",
       "      <th>Human activity</th>\n",
       "      <th>Farming Type</th>\n",
       "      <th>Logging Type</th>\n",
       "      <th>Hunting Type</th>\n",
       "      <th>Gun Evidence</th>\n",
       "      <th>Trapping Evidence</th>\n",
       "      <th>remove_trap</th>\n",
       "      <th>traps_observed</th>\n",
       "      <th>Weather</th>\n",
       "      <th>parsed_time</th>\n",
       "    </tr>\n",
       "  </thead>\n",
       "  <tbody>\n",
       "    <tr>\n",
       "      <th>0</th>\n",
       "      <td>2013-05-21</td>\n",
       "      <td>10:42:31</td>\n",
       "      <td>6.103233</td>\n",
       "      <td>9.404855</td>\n",
       "      <td>165.3</td>\n",
       "      <td>Takamanda</td>\n",
       "      <td>GORILLA_GUARD_2</td>\n",
       "      <td>Wildlife survey</td>\n",
       "      <td>AE</td>\n",
       "      <td>ZA EM JN PN DN FO</td>\n",
       "      <td>...</td>\n",
       "      <td>None</td>\n",
       "      <td>None</td>\n",
       "      <td>None</td>\n",
       "      <td>None</td>\n",
       "      <td>None</td>\n",
       "      <td>None</td>\n",
       "      <td>None</td>\n",
       "      <td>NaN</td>\n",
       "      <td>None</td>\n",
       "      <td>10:42:31</td>\n",
       "    </tr>\n",
       "    <tr>\n",
       "      <th>1</th>\n",
       "      <td>2013-05-21</td>\n",
       "      <td>10:43:56</td>\n",
       "      <td>6.102953</td>\n",
       "      <td>9.404865</td>\n",
       "      <td>192.5</td>\n",
       "      <td>Takamanda</td>\n",
       "      <td>GORILLA_GUARD_2</td>\n",
       "      <td>Wildlife survey</td>\n",
       "      <td>AE</td>\n",
       "      <td>ZA EM JN PN DN FO</td>\n",
       "      <td>...</td>\n",
       "      <td>None</td>\n",
       "      <td>None</td>\n",
       "      <td>None</td>\n",
       "      <td>None</td>\n",
       "      <td>None</td>\n",
       "      <td>None</td>\n",
       "      <td>None</td>\n",
       "      <td>NaN</td>\n",
       "      <td>Sunny</td>\n",
       "      <td>10:43:56</td>\n",
       "    </tr>\n",
       "    <tr>\n",
       "      <th>2</th>\n",
       "      <td>2013-05-21</td>\n",
       "      <td>10:45:17</td>\n",
       "      <td>6.103090</td>\n",
       "      <td>9.404838</td>\n",
       "      <td>179.4</td>\n",
       "      <td>Takamanda</td>\n",
       "      <td>GORILLA_GUARD_2</td>\n",
       "      <td>Wildlife survey</td>\n",
       "      <td>AE</td>\n",
       "      <td>ZA EM JN PN DN FO</td>\n",
       "      <td>...</td>\n",
       "      <td>None</td>\n",
       "      <td>None</td>\n",
       "      <td>None</td>\n",
       "      <td>None</td>\n",
       "      <td>None</td>\n",
       "      <td>None</td>\n",
       "      <td>None</td>\n",
       "      <td>NaN</td>\n",
       "      <td>None</td>\n",
       "      <td>10:45:17</td>\n",
       "    </tr>\n",
       "    <tr>\n",
       "      <th>3</th>\n",
       "      <td>2013-05-21</td>\n",
       "      <td>11:00:38</td>\n",
       "      <td>6.103187</td>\n",
       "      <td>9.405983</td>\n",
       "      <td>152.9</td>\n",
       "      <td>Takamanda</td>\n",
       "      <td>GORILLA_GUARD_2</td>\n",
       "      <td>Wildlife survey</td>\n",
       "      <td>AE</td>\n",
       "      <td>ZA EM JN PN DN FO</td>\n",
       "      <td>...</td>\n",
       "      <td>None</td>\n",
       "      <td>None</td>\n",
       "      <td>None</td>\n",
       "      <td>None</td>\n",
       "      <td>None</td>\n",
       "      <td>None</td>\n",
       "      <td>None</td>\n",
       "      <td>NaN</td>\n",
       "      <td>Sunny</td>\n",
       "      <td>11:00:38</td>\n",
       "    </tr>\n",
       "    <tr>\n",
       "      <th>4</th>\n",
       "      <td>2013-05-21</td>\n",
       "      <td>11:02:08</td>\n",
       "      <td>6.103038</td>\n",
       "      <td>9.405970</td>\n",
       "      <td>161.7</td>\n",
       "      <td>Takamanda</td>\n",
       "      <td>GORILLA_GUARD_2</td>\n",
       "      <td>Wildlife survey</td>\n",
       "      <td>AE</td>\n",
       "      <td>ZA EM JN PN DN FO</td>\n",
       "      <td>...</td>\n",
       "      <td>None</td>\n",
       "      <td>None</td>\n",
       "      <td>None</td>\n",
       "      <td>None</td>\n",
       "      <td>None</td>\n",
       "      <td>None</td>\n",
       "      <td>None</td>\n",
       "      <td>NaN</td>\n",
       "      <td>None</td>\n",
       "      <td>11:02:08</td>\n",
       "    </tr>\n",
       "  </tbody>\n",
       "</table>\n",
       "<p>5 rows × 26 columns</p>\n",
       "</div>"
      ],
      "text/plain": [
       "        Date      Time  Latitude  Longitude  Altitude   Location  \\\n",
       "0 2013-05-21  10:42:31  6.103233   9.404855     165.3  Takamanda   \n",
       "1 2013-05-21  10:43:56  6.102953   9.404865     192.5  Takamanda   \n",
       "2 2013-05-21  10:45:17  6.103090   9.404838     179.4  Takamanda   \n",
       "3 2013-05-21  11:00:38  6.103187   9.405983     152.9  Takamanda   \n",
       "4 2013-05-21  11:02:08  6.103038   9.405970     161.7  Takamanda   \n",
       "\n",
       "           Unit_ID        work_type Observer_name       team_members  \\\n",
       "0  GORILLA_GUARD_2  Wildlife survey            AE  ZA EM JN PN DN FO   \n",
       "1  GORILLA_GUARD_2  Wildlife survey            AE  ZA EM JN PN DN FO   \n",
       "2  GORILLA_GUARD_2  Wildlife survey            AE  ZA EM JN PN DN FO   \n",
       "3  GORILLA_GUARD_2  Wildlife survey            AE  ZA EM JN PN DN FO   \n",
       "4  GORILLA_GUARD_2  Wildlife survey            AE  ZA EM JN PN DN FO   \n",
       "\n",
       "      ...     Human activity Farming Type Logging Type Hunting Type  \\\n",
       "0     ...               None         None         None         None   \n",
       "1     ...               None         None         None         None   \n",
       "2     ...               None         None         None         None   \n",
       "3     ...               None         None         None         None   \n",
       "4     ...               None         None         None         None   \n",
       "\n",
       "  Gun Evidence Trapping Evidence remove_trap traps_observed Weather  \\\n",
       "0         None              None        None            NaN    None   \n",
       "1         None              None        None            NaN   Sunny   \n",
       "2         None              None        None            NaN    None   \n",
       "3         None              None        None            NaN   Sunny   \n",
       "4         None              None        None            NaN    None   \n",
       "\n",
       "  parsed_time  \n",
       "0    10:42:31  \n",
       "1    10:43:56  \n",
       "2    10:45:17  \n",
       "3    11:00:38  \n",
       "4    11:02:08  \n",
       "\n",
       "[5 rows x 26 columns]"
      ]
     },
     "execution_count": 39,
     "metadata": {},
     "output_type": "execute_result"
    }
   ],
   "source": [
    "p_df = df.assign(parsed_time = p_time) #parsed_date\n",
    "p_df.head()"
   ]
  },
  {
   "cell_type": "markdown",
   "metadata": {},
   "source": [
    "openpyxl method for writing to worksheet"
   ]
  },
  {
   "cell_type": "code",
   "execution_count": 26,
   "metadata": {},
   "outputs": [],
   "source": [
    "# change directory\n",
    "import os\n",
    "os.chdir(r\"C:\\code\\gecfi\\excel_dateparser\")"
   ]
  },
  {
   "cell_type": "code",
   "execution_count": 27,
   "metadata": {},
   "outputs": [],
   "source": [
    "dest_filename = r\"C:\\data\\gecdb_files\\data_uploads\\COG_NgNtPi\\2014\\00\\work\\_observations\\NgPtPi_time_fixed.xlsx\"\n",
    "dest_sheetname = 'NgPtPi_time_fixed2'\n",
    "\n",
    "# used pandas.DataFrame.to_excel to write DataFrame to an excel sheet\n",
    "p_df.to_excel(excel_writer=dest_filename, sheet_name=dest_sheetname)"
   ]
  },
  {
   "cell_type": "markdown",
   "metadata": {},
   "source": [
    "#### TODO: trailing zero on time is still not fixed"
   ]
  },
  {
   "cell_type": "code",
   "execution_count": null,
   "metadata": {},
   "outputs": [],
   "source": [
    "% whos"
   ]
  },
  {
   "cell_type": "code",
   "execution_count": null,
   "metadata": {},
   "outputs": [],
   "source": [
    "# This saved my life when I overwrote the data!\n",
    "wb.save(r'C:\\code\\gecfi\\excel_dateparser\\please_work.xlsx')"
   ]
  },
  {
   "cell_type": "code",
   "execution_count": null,
   "metadata": {},
   "outputs": [],
   "source": []
  }
 ],
 "metadata": {
  "kernelspec": {
   "display_name": "Python 3",
   "language": "python",
   "name": "python3"
  },
  "language_info": {
   "codemirror_mode": {
    "name": "ipython",
    "version": 3
   },
   "file_extension": ".py",
   "mimetype": "text/x-python",
   "name": "python",
   "nbconvert_exporter": "python",
   "pygments_lexer": "ipython3",
   "version": "3.7.0"
  }
 },
 "nbformat": 4,
 "nbformat_minor": 2
}
